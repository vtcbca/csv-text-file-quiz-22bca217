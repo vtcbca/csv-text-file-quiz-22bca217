{
 "cells": [
  {
   "cell_type": "code",
   "execution_count": 16,
   "id": "a1b1dec1",
   "metadata": {},
   "outputs": [],
   "source": [
    "import csv"
   ]
  },
  {
   "cell_type": "code",
   "execution_count": 17,
   "id": "220b7b84",
   "metadata": {},
   "outputs": [
    {
     "name": "stdout",
     "output_type": "stream",
     "text": [
      "<_io.TextIOWrapper name='contact.csv' mode='w' encoding='cp1252'>\n"
     ]
    }
   ],
   "source": [
    "f=open('contact.csv','w',newline='')\n",
    "print(f)"
   ]
  },
  {
   "cell_type": "code",
   "execution_count": 18,
   "id": "3843390f",
   "metadata": {},
   "outputs": [],
   "source": [
    "w=csv.writer(f)"
   ]
  },
  {
   "cell_type": "code",
   "execution_count": 19,
   "id": "26b14d69",
   "metadata": {},
   "outputs": [],
   "source": [
    "header=[\"name\",\"contact\"]"
   ]
  },
  {
   "cell_type": "code",
   "execution_count": 20,
   "id": "a08f1f94",
   "metadata": {},
   "outputs": [
    {
     "data": {
      "text/plain": [
       "14"
      ]
     },
     "execution_count": 20,
     "metadata": {},
     "output_type": "execute_result"
    }
   ],
   "source": [
    "w.writerow(header)"
   ]
  },
  {
   "cell_type": "code",
   "execution_count": 21,
   "id": "b2facc4d",
   "metadata": {},
   "outputs": [],
   "source": [
    "row=[[\"aaliya\",4567893456],[\"perin\",7865437896],[\"rohit\",5674837658],[\"heer\",654327896]]"
   ]
  },
  {
   "cell_type": "code",
   "execution_count": 22,
   "id": "0c2e54e0",
   "metadata": {},
   "outputs": [],
   "source": [
    "w.writerows(row)"
   ]
  },
  {
   "cell_type": "code",
   "execution_count": 23,
   "id": "a570b7e5",
   "metadata": {},
   "outputs": [],
   "source": [
    "f.close()"
   ]
  },
  {
   "cell_type": "code",
   "execution_count": 27,
   "id": "86a87805",
   "metadata": {},
   "outputs": [
    {
     "name": "stdout",
     "output_type": "stream",
     "text": [
      "['name', 'contact']\n",
      "['aaliya', '4567893456']\n",
      "['perin', '7865437896']\n",
      "['rohit', '5674837658']\n",
      "['heer', '654327896']\n"
     ]
    }
   ],
   "source": [
    "with open('contact.csv','r',newline='')as f:\n",
    "    r=csv.reader(f)\n",
    "    for row in r:\n",
    "        print(row)"
   ]
  },
  {
   "cell_type": "code",
   "execution_count": null,
   "id": "a04c53d2",
   "metadata": {},
   "outputs": [],
   "source": []
  }
 ],
 "metadata": {
  "kernelspec": {
   "display_name": "Python 3 (ipykernel)",
   "language": "python",
   "name": "python3"
  },
  "language_info": {
   "codemirror_mode": {
    "name": "ipython",
    "version": 3
   },
   "file_extension": ".py",
   "mimetype": "text/x-python",
   "name": "python",
   "nbconvert_exporter": "python",
   "pygments_lexer": "ipython3",
   "version": "3.9.6"
  }
 },
 "nbformat": 4,
 "nbformat_minor": 5
}
